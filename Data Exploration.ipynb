{
 "cells": [
  {
   "cell_type": "markdown",
   "metadata": {},
   "source": [
    "## Importing Necessary Libraries"
   ]
  },
  {
   "cell_type": "code",
   "execution_count": 14,
   "metadata": {},
   "outputs": [],
   "source": [
    "import pandas as pd\n",
    "from pandas.api.types import CategoricalDtype\n",
    "import numpy as np\n",
    "import matplotlib.pyplot as plt\n",
    "import seaborn as sns\n",
    "from tabulate import tabulate\n",
    "from scipy import stats\n",
    "from sklearn.model_selection import train_test_split\n",
    "from sklearn.linear_model import LinearRegression\n",
    "from sklearn import metrics\n",
    "from sklearn.tree import DecisionTreeRegressor\n",
    "from sklearn.ensemble import RandomForestRegressor\n",
    "%matplotlib inline"
   ]
  },
  {
   "cell_type": "markdown",
   "metadata": {},
   "source": [
    "## Data Upload"
   ]
  },
  {
   "cell_type": "code",
   "execution_count": 3,
   "metadata": {},
   "outputs": [],
   "source": [
    "train_data = pd.read_csv(\"train.csv\")\n",
    "df_train = train_data.copy()\n",
    "test_data = pd.read_csv(\"test.csv\")\n",
    "df_test = test_data.copy()\n",
    "#train_data.head()\n",
    "#test_data.head()"
   ]
  },
  {
   "cell_type": "code",
   "execution_count": 4,
   "metadata": {},
   "outputs": [
    {
     "name": "stdout",
     "output_type": "stream",
     "text": [
      "(1460, 81) (1459, 80)\n"
     ]
    }
   ],
   "source": [
    "print(df_train.shape, df_test.shape)"
   ]
  },
  {
   "cell_type": "code",
   "execution_count": 5,
   "metadata": {},
   "outputs": [
    {
     "name": "stdout",
     "output_type": "stream",
     "text": [
      "+---------------+---------+----------------+--------------+-------+-----------+----------+-----------+--------+\n",
      "|               |   count |           mean |          std |   min |       25% |      50% |       75% |    max |\n",
      "|---------------+---------+----------------+--------------+-------+-----------+----------+-----------+--------|\n",
      "| Id            |    1460 |    730.5       |   421.61     |     1 |    365.75 |    730.5 |   1095.25 |   1460 |\n",
      "| MSSubClass    |    1460 |     56.8973    |    42.3006   |    20 |     20    |     50   |     70    |    190 |\n",
      "| LotFrontage   |    1201 |     70.05      |    24.2848   |    21 |     59    |     69   |     80    |    313 |\n",
      "| LotArea       |    1460 |  10516.8       |  9981.26     |  1300 |   7553.5  |   9478.5 |  11601.5  | 215245 |\n",
      "| OverallQual   |    1460 |      6.09932   |     1.383    |     1 |      5    |      6   |      7    |     10 |\n",
      "| OverallCond   |    1460 |      5.57534   |     1.1128   |     1 |      5    |      5   |      6    |      9 |\n",
      "| YearBuilt     |    1460 |   1971.27      |    30.2029   |  1872 |   1954    |   1973   |   2000    |   2010 |\n",
      "| YearRemodAdd  |    1460 |   1984.87      |    20.6454   |  1950 |   1967    |   1994   |   2004    |   2010 |\n",
      "| MasVnrArea    |    1452 |    103.685     |   181.066    |     0 |      0    |      0   |    166    |   1600 |\n",
      "| BsmtFinSF1    |    1460 |    443.64      |   456.098    |     0 |      0    |    383.5 |    712.25 |   5644 |\n",
      "| BsmtFinSF2    |    1460 |     46.5493    |   161.319    |     0 |      0    |      0   |      0    |   1474 |\n",
      "| BsmtUnfSF     |    1460 |    567.24      |   441.867    |     0 |    223    |    477.5 |    808    |   2336 |\n",
      "| TotalBsmtSF   |    1460 |   1057.43      |   438.705    |     0 |    795.75 |    991.5 |   1298.25 |   6110 |\n",
      "| 1stFlrSF      |    1460 |   1162.63      |   386.588    |   334 |    882    |   1087   |   1391.25 |   4692 |\n",
      "| 2ndFlrSF      |    1460 |    346.992     |   436.528    |     0 |      0    |      0   |    728    |   2065 |\n",
      "| LowQualFinSF  |    1460 |      5.84452   |    48.6231   |     0 |      0    |      0   |      0    |    572 |\n",
      "| GrLivArea     |    1460 |   1515.46      |   525.48     |   334 |   1129.5  |   1464   |   1776.75 |   5642 |\n",
      "| BsmtFullBath  |    1460 |      0.425342  |     0.518911 |     0 |      0    |      0   |      1    |      3 |\n",
      "| BsmtHalfBath  |    1460 |      0.0575342 |     0.238753 |     0 |      0    |      0   |      0    |      2 |\n",
      "| FullBath      |    1460 |      1.56507   |     0.550916 |     0 |      1    |      2   |      2    |      3 |\n",
      "| HalfBath      |    1460 |      0.382877  |     0.502885 |     0 |      0    |      0   |      1    |      2 |\n",
      "| BedroomAbvGr  |    1460 |      2.86644   |     0.815778 |     0 |      2    |      3   |      3    |      8 |\n",
      "| KitchenAbvGr  |    1460 |      1.04658   |     0.220338 |     0 |      1    |      1   |      1    |      3 |\n",
      "| TotRmsAbvGrd  |    1460 |      6.51781   |     1.62539  |     2 |      5    |      6   |      7    |     14 |\n",
      "| Fireplaces    |    1460 |      0.613014  |     0.644666 |     0 |      0    |      1   |      1    |      3 |\n",
      "| GarageYrBlt   |    1379 |   1978.51      |    24.6897   |  1900 |   1961    |   1980   |   2002    |   2010 |\n",
      "| GarageCars    |    1460 |      1.76712   |     0.747315 |     0 |      1    |      2   |      2    |      4 |\n",
      "| GarageArea    |    1460 |    472.98      |   213.805    |     0 |    334.5  |    480   |    576    |   1418 |\n",
      "| WoodDeckSF    |    1460 |     94.2445    |   125.339    |     0 |      0    |      0   |    168    |    857 |\n",
      "| OpenPorchSF   |    1460 |     46.6603    |    66.256    |     0 |      0    |     25   |     68    |    547 |\n",
      "| EnclosedPorch |    1460 |     21.9541    |    61.1191   |     0 |      0    |      0   |      0    |    552 |\n",
      "| 3SsnPorch     |    1460 |      3.40959   |    29.3173   |     0 |      0    |      0   |      0    |    508 |\n",
      "| ScreenPorch   |    1460 |     15.061     |    55.7574   |     0 |      0    |      0   |      0    |    480 |\n",
      "| PoolArea      |    1460 |      2.7589    |    40.1773   |     0 |      0    |      0   |      0    |    738 |\n",
      "| MiscVal       |    1460 |     43.489     |   496.123    |     0 |      0    |      0   |      0    |  15500 |\n",
      "| MoSold        |    1460 |      6.32192   |     2.70363  |     1 |      5    |      6   |      8    |     12 |\n",
      "| YrSold        |    1460 |   2007.82      |     1.3281   |  2006 |   2007    |   2008   |   2009    |   2010 |\n",
      "| SalePrice     |    1460 | 180921         | 79442.5      | 34900 | 129975    | 163000   | 214000    | 755000 |\n",
      "+---------------+---------+----------------+--------------+-------+-----------+----------+-----------+--------+\n"
     ]
    }
   ],
   "source": [
    "print(tabulate(df_train.describe().T,headers=df_train.describe().T.columns,tablefmt=\"psql\"))"
   ]
  },
  {
   "cell_type": "code",
   "execution_count": 6,
   "metadata": {},
   "outputs": [
    {
     "data": {
      "text/html": [
       "<div>\n",
       "<style scoped>\n",
       "    .dataframe tbody tr th:only-of-type {\n",
       "        vertical-align: middle;\n",
       "    }\n",
       "\n",
       "    .dataframe tbody tr th {\n",
       "        vertical-align: top;\n",
       "    }\n",
       "\n",
       "    .dataframe thead th {\n",
       "        text-align: right;\n",
       "    }\n",
       "</style>\n",
       "<table border=\"1\" class=\"dataframe\">\n",
       "  <thead>\n",
       "    <tr style=\"text-align: right;\">\n",
       "      <th></th>\n",
       "      <th>Id</th>\n",
       "      <th>MSSubClass</th>\n",
       "      <th>MSZoning</th>\n",
       "      <th>LotFrontage</th>\n",
       "      <th>LotArea</th>\n",
       "      <th>Street</th>\n",
       "      <th>Alley</th>\n",
       "      <th>LotShape</th>\n",
       "      <th>LandContour</th>\n",
       "      <th>Utilities</th>\n",
       "      <th>...</th>\n",
       "      <th>PoolArea</th>\n",
       "      <th>PoolQC</th>\n",
       "      <th>Fence</th>\n",
       "      <th>MiscFeature</th>\n",
       "      <th>MiscVal</th>\n",
       "      <th>MoSold</th>\n",
       "      <th>YrSold</th>\n",
       "      <th>SaleType</th>\n",
       "      <th>SaleCondition</th>\n",
       "      <th>SalePrice</th>\n",
       "    </tr>\n",
       "  </thead>\n",
       "  <tbody>\n",
       "    <tr>\n",
       "      <th>Type</th>\n",
       "      <td>int64</td>\n",
       "      <td>int64</td>\n",
       "      <td>object</td>\n",
       "      <td>float64</td>\n",
       "      <td>int64</td>\n",
       "      <td>object</td>\n",
       "      <td>object</td>\n",
       "      <td>object</td>\n",
       "      <td>object</td>\n",
       "      <td>object</td>\n",
       "      <td>...</td>\n",
       "      <td>int64</td>\n",
       "      <td>object</td>\n",
       "      <td>object</td>\n",
       "      <td>object</td>\n",
       "      <td>int64</td>\n",
       "      <td>int64</td>\n",
       "      <td>int64</td>\n",
       "      <td>object</td>\n",
       "      <td>object</td>\n",
       "      <td>int64</td>\n",
       "    </tr>\n",
       "  </tbody>\n",
       "</table>\n",
       "<p>1 rows × 81 columns</p>\n",
       "</div>"
      ],
      "text/plain": [
       "         Id MSSubClass MSZoning LotFrontage LotArea  Street   Alley LotShape  \\\n",
       "Type  int64      int64   object     float64   int64  object  object   object   \n",
       "\n",
       "     LandContour Utilities  ... PoolArea  PoolQC   Fence MiscFeature MiscVal  \\\n",
       "Type      object    object  ...    int64  object  object      object   int64   \n",
       "\n",
       "     MoSold YrSold SaleType SaleCondition SalePrice  \n",
       "Type  int64  int64   object        object     int64  \n",
       "\n",
       "[1 rows x 81 columns]"
      ]
     },
     "execution_count": 6,
     "metadata": {},
     "output_type": "execute_result"
    }
   ],
   "source": [
    "pd.DataFrame(df_train.dtypes,columns=['Type']).T"
   ]
  },
  {
   "cell_type": "markdown",
   "metadata": {},
   "source": [
    "### Data Type Conversion for Categorical Variables"
   ]
  },
  {
   "cell_type": "code",
   "execution_count": 7,
   "metadata": {},
   "outputs": [],
   "source": [
    "df_train['MSZoning'] = df_train['MSZoning'].astype(CategoricalDtype())\n",
    "df_train['Street'] = df_train['Street'].astype(CategoricalDtype())\n",
    "df_train['Alley'] = df_train['Alley'].astype(CategoricalDtype())\n",
    "df_train['LotShape'] = df_train['LotShape'].astype(CategoricalDtype())\n",
    "df_train['OverallQual'] = df_train['OverallQual'].astype(CategoricalDtype()) #Included in Features\n",
    "df_train['OverallCond'] = df_train['OverallCond'].astype(CategoricalDtype()) #Included in Features\n",
    "\n",
    "df_test['MSZoning'] = df_test['MSZoning'].astype(CategoricalDtype())\n",
    "df_test['Street'] = df_test['Street'].astype(CategoricalDtype())\n",
    "df_test['Alley'] = df_test['Alley'].astype(CategoricalDtype())\n",
    "df_test['LotShape'] = df_test['LotShape'].astype(CategoricalDtype())\n",
    "df_test['OverallQual'] = df_test['OverallQual'].astype(CategoricalDtype()) #Included in Features\n",
    "df_test['OverallCond'] = df_test['OverallCond'].astype(CategoricalDtype()) #Included in Features"
   ]
  },
  {
   "cell_type": "code",
   "execution_count": 8,
   "metadata": {},
   "outputs": [
    {
     "data": {
      "text/plain": [
       "[RL, RM, C (all), FV, RH]\n",
       "Categories (5, object): [RL, RM, C (all), FV, RH]"
      ]
     },
     "execution_count": 8,
     "metadata": {},
     "output_type": "execute_result"
    }
   ],
   "source": [
    "df_train['MSZoning'].unique()"
   ]
  },
  {
   "cell_type": "markdown",
   "metadata": {},
   "source": [
    "## Visualizations to Explore the Data"
   ]
  },
  {
   "cell_type": "code",
   "execution_count": 30,
   "metadata": {
    "scrolled": false
   },
   "outputs": [
    {
     "data": {
      "image/png": "[encoded data removed]",
      "text/plain": [
       "<Figure size 1152x576 with 4 Axes>"
      ]
     },
     "metadata": {},
     "output_type": "display_data"
    }
   ],
   "source": [
    "sns.set(style=\"white\", palette=\"muted\", color_codes=True)\n",
    "\n",
    "# Set up the matplotlib figure\n",
    "f, axes = plt.subplots(2, 2, figsize=(16, 8), sharex=False)\n",
    "sns.despine(left=True)\n",
    "\n",
    "sns.barplot(x='MSZoning',y='SalePrice',data=df_train, ax=axes[0, 0]);\n",
    "# Plot a filled kernel density estimate\n",
    "sns.distplot(df_train['SalePrice'], hist=False, color=\"g\", kde_kws={\"shade\": True}, ax=axes[0, 1],\n",
    "            fit=stats.norm);\n",
    "#Gaussian Fit for Price Distribution\n",
    "(mu, sigma) = stats.norm.fit(df_train['SalePrice'])\n",
    "#print(\"mu={0}, sigma={1}\".format(mu, sigma))\n",
    "axes[0,1].legend([\"normal dist. fit ($\\mu=${0:.2g}, $\\sigma=${1:.2f})\".format(mu, sigma)],loc=\"upper right\")\n",
    "# Plot a filled kernel density estimate\n",
    "#sns.distplot(df_train['Street'], hist=False, color=\"b\", kde_kws={\"shade\": True}, ax=axes[1, 0]);\n",
    "sns.barplot(x='Street',y='SalePrice',data=df_train, ax=axes[1, 0]);\n",
    "sns.barplot(x='LotShape',y='SalePrice',data=df_train, ax=axes[1, 1]);\n",
    "\n",
    "#plt.setp(axes, yticks=[])\n",
    "plt.tight_layout()"
   ]
  },
  {
   "cell_type": "code",
   "execution_count": 10,
   "metadata": {},
   "outputs": [
    {
     "data": {
      "image/png": "[encoded data removed]",
      "text/plain": [
       "<Figure size 1152x576 with 2 Axes>"
      ]
     },
     "metadata": {},
     "output_type": "display_data"
    }
   ],
   "source": [
    "sns.set(style=\"white\", palette=\"muted\", color_codes=True)\n",
    "\n",
    "# Set up the matplotlib figure\n",
    "f, axes = plt.subplots(2, 1, figsize=(16, 8), sharex=False)\n",
    "sns.despine(left=True)\n",
    "\n",
    "sns.barplot(x='OverallQual',y='SalePrice',data=df_train, ax=axes[0]);\n",
    "# Plot a filled kernel density estimate\n",
    "sns.barplot(x='OverallCond',y='SalePrice',data=df_train, ax=axes[1]);\n",
    "\n",
    "#plt.setp(axes, yticks=[])\n",
    "plt.tight_layout()"
   ]
  },
  {
   "cell_type": "markdown",
   "metadata": {},
   "source": [
    "# Feature Selection & Forming Train, Dev and Test Sets"
   ]
  },
  {
   "cell_type": "code",
   "execution_count": 18,
   "metadata": {},
   "outputs": [],
   "source": [
    "Features = ['OverallCond','OverallQual']\n",
    "X = df_train[Features]\n",
    "y = df_train['SalePrice']\n",
    "X_test = df_test[Features]"
   ]
  },
  {
   "cell_type": "code",
   "execution_count": 19,
   "metadata": {},
   "outputs": [],
   "source": [
    "X_train, X_dev, y_train, y_dev = train_test_split(X, y, test_size=0.2, random_state=42)"
   ]
  },
  {
   "cell_type": "code",
   "execution_count": 20,
   "metadata": {},
   "outputs": [
    {
     "name": "stdout",
     "output_type": "stream",
     "text": [
      "(1168, 2) (292, 2) (1459, 2) (1168,) (292,)\n"
     ]
    }
   ],
   "source": [
    "print(X_train.shape, X_dev.shape, X_test.shape, y_train.shape, y_dev.shape)"
   ]
  },
  {
   "cell_type": "markdown",
   "metadata": {},
   "source": [
    "# ML Algorithms"
   ]
  },
  {
   "cell_type": "markdown",
   "metadata": {},
   "source": [
    "## Linear Regression"
   ]
  },
  {
   "cell_type": "code",
   "execution_count": 21,
   "metadata": {},
   "outputs": [],
   "source": [
    "linreg = LinearRegression(fit_intercept=False)\n",
    "linreg.fit(X_train, y_train)\n",
    "\n",
    "#To retrieve the intercept:\n",
    "    #print(linreg.intercept_)\n",
    "#For retrieving the slope:\n",
    "    #print(linreg.coef_)\n",
    "y_pred_linreg_dev = linreg.predict(X_dev)"
   ]
  },
  {
   "cell_type": "code",
   "execution_count": 22,
   "metadata": {},
   "outputs": [
    {
     "data": {
      "text/html": [
       "<div>\n",
       "<style scoped>\n",
       "    .dataframe tbody tr th:only-of-type {\n",
       "        vertical-align: middle;\n",
       "    }\n",
       "\n",
       "    .dataframe tbody tr th {\n",
       "        vertical-align: top;\n",
       "    }\n",
       "\n",
       "    .dataframe thead th {\n",
       "        text-align: right;\n",
       "    }\n",
       "</style>\n",
       "<table border=\"1\" class=\"dataframe\">\n",
       "  <thead>\n",
       "    <tr style=\"text-align: right;\">\n",
       "      <th></th>\n",
       "      <th>Actual</th>\n",
       "      <th>Predicted</th>\n",
       "    </tr>\n",
       "  </thead>\n",
       "  <tbody>\n",
       "    <tr>\n",
       "      <th>892</th>\n",
       "      <td>154500</td>\n",
       "      <td>157090.356800</td>\n",
       "    </tr>\n",
       "    <tr>\n",
       "      <th>1105</th>\n",
       "      <td>325000</td>\n",
       "      <td>259827.652828</td>\n",
       "    </tr>\n",
       "    <tr>\n",
       "      <th>413</th>\n",
       "      <td>115000</td>\n",
       "      <td>136834.965227</td>\n",
       "    </tr>\n",
       "    <tr>\n",
       "      <th>522</th>\n",
       "      <td>159000</td>\n",
       "      <td>165979.858640</td>\n",
       "    </tr>\n",
       "    <tr>\n",
       "      <th>1036</th>\n",
       "      <td>315500</td>\n",
       "      <td>297862.048082</td>\n",
       "    </tr>\n",
       "    <tr>\n",
       "      <th>...</th>\n",
       "      <td>...</td>\n",
       "      <td>...</td>\n",
       "    </tr>\n",
       "    <tr>\n",
       "      <th>479</th>\n",
       "      <td>89471</td>\n",
       "      <td>89911.068133</td>\n",
       "    </tr>\n",
       "    <tr>\n",
       "      <th>1361</th>\n",
       "      <td>260000</td>\n",
       "      <td>221793.257574</td>\n",
       "    </tr>\n",
       "    <tr>\n",
       "      <th>802</th>\n",
       "      <td>189000</td>\n",
       "      <td>221793.257574</td>\n",
       "    </tr>\n",
       "    <tr>\n",
       "      <th>651</th>\n",
       "      <td>108000</td>\n",
       "      <td>107690.071813</td>\n",
       "    </tr>\n",
       "    <tr>\n",
       "      <th>722</th>\n",
       "      <td>124500</td>\n",
       "      <td>89911.068133</td>\n",
       "    </tr>\n",
       "  </tbody>\n",
       "</table>\n",
       "<p>292 rows × 2 columns</p>\n",
       "</div>"
      ],
      "text/plain": [
       "      Actual      Predicted\n",
       "892   154500  157090.356800\n",
       "1105  325000  259827.652828\n",
       "413   115000  136834.965227\n",
       "522   159000  165979.858640\n",
       "1036  315500  297862.048082\n",
       "...      ...            ...\n",
       "479    89471   89911.068133\n",
       "1361  260000  221793.257574\n",
       "802   189000  221793.257574\n",
       "651   108000  107690.071813\n",
       "722   124500   89911.068133\n",
       "\n",
       "[292 rows x 2 columns]"
      ]
     },
     "execution_count": 22,
     "metadata": {},
     "output_type": "execute_result"
    }
   ],
   "source": [
    "df_linreg = pd.DataFrame({'Actual': y_dev, 'Predicted': y_pred_linreg_dev})\n",
    "df_linreg"
   ]
  },
  {
   "cell_type": "code",
   "execution_count": 23,
   "metadata": {},
   "outputs": [
    {
     "name": "stdout",
     "output_type": "stream",
     "text": [
      "Root Mean Squared Error for Linear Regression: 54291.441721247014\n",
      "Accuracy: 61.57189975297679%\n"
     ]
    }
   ],
   "source": [
    "print('Root Mean Squared Error for Linear Regression:', np.sqrt(metrics.mean_squared_error(y_dev, y_pred_linreg_dev)))\n",
    "print(\"Accuracy: \"+ str(linreg.score(X_dev,y_dev)*100) + \"%\")"
   ]
  },
  {
   "cell_type": "markdown",
   "metadata": {},
   "source": [
    "## Decision Tree Regression"
   ]
  },
  {
   "cell_type": "code",
   "execution_count": 24,
   "metadata": {},
   "outputs": [
    {
     "data": {
      "text/html": [
       "<div>\n",
       "<style scoped>\n",
       "    .dataframe tbody tr th:only-of-type {\n",
       "        vertical-align: middle;\n",
       "    }\n",
       "\n",
       "    .dataframe tbody tr th {\n",
       "        vertical-align: top;\n",
       "    }\n",
       "\n",
       "    .dataframe thead th {\n",
       "        text-align: right;\n",
       "    }\n",
       "</style>\n",
       "<table border=\"1\" class=\"dataframe\">\n",
       "  <thead>\n",
       "    <tr style=\"text-align: right;\">\n",
       "      <th></th>\n",
       "      <th>Actual</th>\n",
       "      <th>Predicted</th>\n",
       "    </tr>\n",
       "  </thead>\n",
       "  <tbody>\n",
       "    <tr>\n",
       "      <th>892</th>\n",
       "      <td>154500</td>\n",
       "      <td>155729.166667</td>\n",
       "    </tr>\n",
       "    <tr>\n",
       "      <th>1105</th>\n",
       "      <td>325000</td>\n",
       "      <td>273495.188034</td>\n",
       "    </tr>\n",
       "    <tr>\n",
       "      <th>413</th>\n",
       "      <td>115000</td>\n",
       "      <td>138530.759494</td>\n",
       "    </tr>\n",
       "    <tr>\n",
       "      <th>522</th>\n",
       "      <td>159000</td>\n",
       "      <td>176895.322034</td>\n",
       "    </tr>\n",
       "    <tr>\n",
       "      <th>1036</th>\n",
       "      <td>315500</td>\n",
       "      <td>360440.085714</td>\n",
       "    </tr>\n",
       "    <tr>\n",
       "      <th>...</th>\n",
       "      <td>...</td>\n",
       "      <td>...</td>\n",
       "    </tr>\n",
       "    <tr>\n",
       "      <th>479</th>\n",
       "      <td>89471</td>\n",
       "      <td>104634.615385</td>\n",
       "    </tr>\n",
       "    <tr>\n",
       "      <th>1361</th>\n",
       "      <td>260000</td>\n",
       "      <td>206509.870833</td>\n",
       "    </tr>\n",
       "    <tr>\n",
       "      <th>802</th>\n",
       "      <td>189000</td>\n",
       "      <td>206509.870833</td>\n",
       "    </tr>\n",
       "    <tr>\n",
       "      <th>651</th>\n",
       "      <td>108000</td>\n",
       "      <td>109088.571429</td>\n",
       "    </tr>\n",
       "    <tr>\n",
       "      <th>722</th>\n",
       "      <td>124500</td>\n",
       "      <td>104634.615385</td>\n",
       "    </tr>\n",
       "  </tbody>\n",
       "</table>\n",
       "<p>292 rows × 2 columns</p>\n",
       "</div>"
      ],
      "text/plain": [
       "      Actual      Predicted\n",
       "892   154500  155729.166667\n",
       "1105  325000  273495.188034\n",
       "413   115000  138530.759494\n",
       "522   159000  176895.322034\n",
       "1036  315500  360440.085714\n",
       "...      ...            ...\n",
       "479    89471  104634.615385\n",
       "1361  260000  206509.870833\n",
       "802   189000  206509.870833\n",
       "651   108000  109088.571429\n",
       "722   124500  104634.615385\n",
       "\n",
       "[292 rows x 2 columns]"
      ]
     },
     "execution_count": 24,
     "metadata": {},
     "output_type": "execute_result"
    }
   ],
   "source": [
    "dt = DecisionTreeRegressor(max_depth=10, min_samples_split=5, max_leaf_nodes=40)\n",
    "dt.fit(X_train, y_train)\n",
    "y_pred_dt = dt.predict(X_dev)\n",
    "df_dt = pd.DataFrame({'Actual': y_dev, 'Predicted': y_pred_dt})\n",
    "df_dt"
   ]
  },
  {
   "cell_type": "code",
   "execution_count": 25,
   "metadata": {},
   "outputs": [
    {
     "name": "stdout",
     "output_type": "stream",
     "text": [
      "Root Mean Squared Error for Decision Tree Regression: 46732.82636011011\n",
      "Accuracy: 71.52719453368455%\n"
     ]
    }
   ],
   "source": [
    "print('Root Mean Squared Error for Decision Tree Regression:', np.sqrt(metrics.mean_squared_error(y_dev, y_pred_dt)))\n",
    "print(\"Accuracy: \"+ str(dt.score(X_dev,y_dev)*100) + \"%\")"
   ]
  },
  {
   "cell_type": "markdown",
   "metadata": {},
   "source": [
    "## Random Forest Regression"
   ]
  },
  {
   "cell_type": "code",
   "execution_count": 26,
   "metadata": {},
   "outputs": [
    {
     "data": {
      "text/html": [
       "<div>\n",
       "<style scoped>\n",
       "    .dataframe tbody tr th:only-of-type {\n",
       "        vertical-align: middle;\n",
       "    }\n",
       "\n",
       "    .dataframe tbody tr th {\n",
       "        vertical-align: top;\n",
       "    }\n",
       "\n",
       "    .dataframe thead th {\n",
       "        text-align: right;\n",
       "    }\n",
       "</style>\n",
       "<table border=\"1\" class=\"dataframe\">\n",
       "  <thead>\n",
       "    <tr style=\"text-align: right;\">\n",
       "      <th></th>\n",
       "      <th>Actual</th>\n",
       "      <th>Predicted</th>\n",
       "    </tr>\n",
       "  </thead>\n",
       "  <tbody>\n",
       "    <tr>\n",
       "      <th>892</th>\n",
       "      <td>154500</td>\n",
       "      <td>159406.964459</td>\n",
       "    </tr>\n",
       "    <tr>\n",
       "      <th>1105</th>\n",
       "      <td>325000</td>\n",
       "      <td>274692.834369</td>\n",
       "    </tr>\n",
       "    <tr>\n",
       "      <th>413</th>\n",
       "      <td>115000</td>\n",
       "      <td>140525.690463</td>\n",
       "    </tr>\n",
       "    <tr>\n",
       "      <th>522</th>\n",
       "      <td>159000</td>\n",
       "      <td>174413.174968</td>\n",
       "    </tr>\n",
       "    <tr>\n",
       "      <th>1036</th>\n",
       "      <td>315500</td>\n",
       "      <td>364626.483890</td>\n",
       "    </tr>\n",
       "    <tr>\n",
       "      <th>...</th>\n",
       "      <td>...</td>\n",
       "      <td>...</td>\n",
       "    </tr>\n",
       "    <tr>\n",
       "      <th>479</th>\n",
       "      <td>89471</td>\n",
       "      <td>104363.848748</td>\n",
       "    </tr>\n",
       "    <tr>\n",
       "      <th>1361</th>\n",
       "      <td>260000</td>\n",
       "      <td>205268.982758</td>\n",
       "    </tr>\n",
       "    <tr>\n",
       "      <th>802</th>\n",
       "      <td>189000</td>\n",
       "      <td>205268.982758</td>\n",
       "    </tr>\n",
       "    <tr>\n",
       "      <th>651</th>\n",
       "      <td>108000</td>\n",
       "      <td>109795.676245</td>\n",
       "    </tr>\n",
       "    <tr>\n",
       "      <th>722</th>\n",
       "      <td>124500</td>\n",
       "      <td>104363.848748</td>\n",
       "    </tr>\n",
       "  </tbody>\n",
       "</table>\n",
       "<p>292 rows × 2 columns</p>\n",
       "</div>"
      ],
      "text/plain": [
       "      Actual      Predicted\n",
       "892   154500  159406.964459\n",
       "1105  325000  274692.834369\n",
       "413   115000  140525.690463\n",
       "522   159000  174413.174968\n",
       "1036  315500  364626.483890\n",
       "...      ...            ...\n",
       "479    89471  104363.848748\n",
       "1361  260000  205268.982758\n",
       "802   189000  205268.982758\n",
       "651   108000  109795.676245\n",
       "722   124500  104363.848748\n",
       "\n",
       "[292 rows x 2 columns]"
      ]
     },
     "execution_count": 26,
     "metadata": {},
     "output_type": "execute_result"
    }
   ],
   "source": [
    "rf = RandomForestRegressor(max_depth = 20, n_estimators=10, random_state = 42)\n",
    "rf.fit(X_train, y_train)\n",
    "y_pred_rf = rf.predict(X_dev)\n",
    "df_rf = pd.DataFrame({'Actual': y_dev, 'Predicted': y_pred_rf})\n",
    "df_rf"
   ]
  },
  {
   "cell_type": "code",
   "execution_count": 27,
   "metadata": {},
   "outputs": [
    {
     "name": "stdout",
     "output_type": "stream",
     "text": [
      "Root Mean Squared Error for Random Forest Regression: 46213.43563787208\n",
      "Accuracy: 72.15657358282098%\n"
     ]
    }
   ],
   "source": [
    "print('Root Mean Squared Error for Random Forest Regression:', np.sqrt(metrics.mean_squared_error(y_dev, y_pred_rf)))\n",
    "print(\"Accuracy: \"+ str(rf.score(X_dev,y_dev)*100) + \"%\")"
   ]
  },
  {
   "cell_type": "markdown",
   "metadata": {},
   "source": [
    "# Creating Submission CSV"
   ]
  },
  {
   "cell_type": "code",
   "execution_count": 28,
   "metadata": {},
   "outputs": [],
   "source": [
    "y_pred_rf_test = rf.predict(X_test)\n",
    "df_temp = pd.concat([df_test['Id'],pd.Series(y_pred_rf_test)],axis=1)\n",
    "df_temp.columns = [['Id', 'SalePrice']]"
   ]
  },
  {
   "cell_type": "code",
   "execution_count": 29,
   "metadata": {},
   "outputs": [],
   "source": [
    "df_temp.to_csv(\"Sample_Submission_000.csv\",index=False)"
   ]
  }
 ],
 "metadata": {
  "kernelspec": {
   "display_name": "Python 3",
   "language": "python",
   "name": "python3"
  },
  "language_info": {
   "codemirror_mode": {
    "name": "ipython",
    "version": 3
   },
   "file_extension": ".py",
   "mimetype": "text/x-python",
   "name": "python",
   "nbconvert_exporter": "python",
   "pygments_lexer": "ipython3",
   "version": "3.7.4"
  }
 },
 "nbformat": 4,
 "nbformat_minor": 4
}
