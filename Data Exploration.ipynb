{
 "cells": [
  {
   "cell_type": "markdown",
   "metadata": {},
   "source": [
    "## Importing Necessary Libraries"
   ]
  },
  {
   "cell_type": "code",
   "execution_count": 64,
   "metadata": {},
   "outputs": [],
   "source": [
    "import pandas as pd\n",
    "from pandas.api.types import CategoricalDtype\n",
    "import numpy as np\n",
    "import matplotlib.pyplot as plt\n",
    "import seaborn as sns\n",
    "from tabulate import tabulate\n",
    "from scipy import stats\n",
    "from sklearn.model_selection import train_test_split\n",
    "from sklearn.linear_model import LinearRegression\n",
    "from sklearn import metrics\n",
    "from sklearn.tree import DecisionTreeRegressor\n",
    "from sklearn.ensemble import RandomForestRegressor\n",
    "%matplotlib inline"
   ]
  },
  {
   "cell_type": "markdown",
   "metadata": {},
   "source": [
    "## Data Upload"
   ]
  },
  {
   "cell_type": "code",
   "execution_count": 65,
   "metadata": {},
   "outputs": [],
   "source": [
    "train_data = pd.read_csv(\"train.csv\")\n",
    "df_train = train_data.copy()\n",
    "test_data = pd.read_csv(\"test.csv\")\n",
    "df_test = test_data.copy()\n",
    "#train_data.head()\n",
    "#test_data.head()"
   ]
  },
  {
   "cell_type": "code",
   "execution_count": 66,
   "metadata": {},
   "outputs": [
    {
     "name": "stdout",
     "output_type": "stream",
     "text": [
      "(1460, 81) (1459, 80)\n"
     ]
    }
   ],
   "source": [
    "print(df_train.shape, df_test.shape)"
   ]
  },
  {
   "cell_type": "code",
   "execution_count": 67,
   "metadata": {},
   "outputs": [
    {
     "name": "stdout",
     "output_type": "stream",
     "text": [
      "+---------------+---------+----------------+--------------+-------+-----------+----------+-----------+--------+\n",
      "|               |   count |           mean |          std |   min |       25% |      50% |       75% |    max |\n",
      "|---------------+---------+----------------+--------------+-------+-----------+----------+-----------+--------|\n",
      "| Id            |    1460 |    730.5       |   421.61     |     1 |    365.75 |    730.5 |   1095.25 |   1460 |\n",
      "| MSSubClass    |    1460 |     56.8973    |    42.3006   |    20 |     20    |     50   |     70    |    190 |\n",
      "| LotFrontage   |    1201 |     70.05      |    24.2848   |    21 |     59    |     69   |     80    |    313 |\n",
      "| LotArea       |    1460 |  10516.8       |  9981.26     |  1300 |   7553.5  |   9478.5 |  11601.5  | 215245 |\n",
      "| OverallQual   |    1460 |      6.09932   |     1.383    |     1 |      5    |      6   |      7    |     10 |\n",
      "| OverallCond   |    1460 |      5.57534   |     1.1128   |     1 |      5    |      5   |      6    |      9 |\n",
      "| YearBuilt     |    1460 |   1971.27      |    30.2029   |  1872 |   1954    |   1973   |   2000    |   2010 |\n",
      "| YearRemodAdd  |    1460 |   1984.87      |    20.6454   |  1950 |   1967    |   1994   |   2004    |   2010 |\n",
      "| MasVnrArea    |    1452 |    103.685     |   181.066    |     0 |      0    |      0   |    166    |   1600 |\n",
      "| BsmtFinSF1    |    1460 |    443.64      |   456.098    |     0 |      0    |    383.5 |    712.25 |   5644 |\n",
      "| BsmtFinSF2    |    1460 |     46.5493    |   161.319    |     0 |      0    |      0   |      0    |   1474 |\n",
      "| BsmtUnfSF     |    1460 |    567.24      |   441.867    |     0 |    223    |    477.5 |    808    |   2336 |\n",
      "| TotalBsmtSF   |    1460 |   1057.43      |   438.705    |     0 |    795.75 |    991.5 |   1298.25 |   6110 |\n",
      "| 1stFlrSF      |    1460 |   1162.63      |   386.588    |   334 |    882    |   1087   |   1391.25 |   4692 |\n",
      "| 2ndFlrSF      |    1460 |    346.992     |   436.528    |     0 |      0    |      0   |    728    |   2065 |\n",
      "| LowQualFinSF  |    1460 |      5.84452   |    48.6231   |     0 |      0    |      0   |      0    |    572 |\n",
      "| GrLivArea     |    1460 |   1515.46      |   525.48     |   334 |   1129.5  |   1464   |   1776.75 |   5642 |\n",
      "| BsmtFullBath  |    1460 |      0.425342  |     0.518911 |     0 |      0    |      0   |      1    |      3 |\n",
      "| BsmtHalfBath  |    1460 |      0.0575342 |     0.238753 |     0 |      0    |      0   |      0    |      2 |\n",
      "| FullBath      |    1460 |      1.56507   |     0.550916 |     0 |      1    |      2   |      2    |      3 |\n",
      "| HalfBath      |    1460 |      0.382877  |     0.502885 |     0 |      0    |      0   |      1    |      2 |\n",
      "| BedroomAbvGr  |    1460 |      2.86644   |     0.815778 |     0 |      2    |      3   |      3    |      8 |\n",
      "| KitchenAbvGr  |    1460 |      1.04658   |     0.220338 |     0 |      1    |      1   |      1    |      3 |\n",
      "| TotRmsAbvGrd  |    1460 |      6.51781   |     1.62539  |     2 |      5    |      6   |      7    |     14 |\n",
      "| Fireplaces    |    1460 |      0.613014  |     0.644666 |     0 |      0    |      1   |      1    |      3 |\n",
      "| GarageYrBlt   |    1379 |   1978.51      |    24.6897   |  1900 |   1961    |   1980   |   2002    |   2010 |\n",
      "| GarageCars    |    1460 |      1.76712   |     0.747315 |     0 |      1    |      2   |      2    |      4 |\n",
      "| GarageArea    |    1460 |    472.98      |   213.805    |     0 |    334.5  |    480   |    576    |   1418 |\n",
      "| WoodDeckSF    |    1460 |     94.2445    |   125.339    |     0 |      0    |      0   |    168    |    857 |\n",
      "| OpenPorchSF   |    1460 |     46.6603    |    66.256    |     0 |      0    |     25   |     68    |    547 |\n",
      "| EnclosedPorch |    1460 |     21.9541    |    61.1191   |     0 |      0    |      0   |      0    |    552 |\n",
      "| 3SsnPorch     |    1460 |      3.40959   |    29.3173   |     0 |      0    |      0   |      0    |    508 |\n",
      "| ScreenPorch   |    1460 |     15.061     |    55.7574   |     0 |      0    |      0   |      0    |    480 |\n",
      "| PoolArea      |    1460 |      2.7589    |    40.1773   |     0 |      0    |      0   |      0    |    738 |\n",
      "| MiscVal       |    1460 |     43.489     |   496.123    |     0 |      0    |      0   |      0    |  15500 |\n",
      "| MoSold        |    1460 |      6.32192   |     2.70363  |     1 |      5    |      6   |      8    |     12 |\n",
      "| YrSold        |    1460 |   2007.82      |     1.3281   |  2006 |   2007    |   2008   |   2009    |   2010 |\n",
      "| SalePrice     |    1460 | 180921         | 79442.5      | 34900 | 129975    | 163000   | 214000    | 755000 |\n",
      "+---------------+---------+----------------+--------------+-------+-----------+----------+-----------+--------+\n"
     ]
    }
   ],
   "source": [
    "print(tabulate(df_train.describe().T,headers=df_train.describe().T.columns,tablefmt=\"psql\"))"
   ]
  },
  {
   "cell_type": "code",
   "execution_count": 68,
   "metadata": {},
   "outputs": [
    {
     "data": {
      "text/html": [
       "<div>\n",
       "<style scoped>\n",
       "    .dataframe tbody tr th:only-of-type {\n",
       "        vertical-align: middle;\n",
       "    }\n",
       "\n",
       "    .dataframe tbody tr th {\n",
       "        vertical-align: top;\n",
       "    }\n",
       "\n",
       "    .dataframe thead th {\n",
       "        text-align: right;\n",
       "    }\n",
       "</style>\n",
       "<table border=\"1\" class=\"dataframe\">\n",
       "  <thead>\n",
       "    <tr style=\"text-align: right;\">\n",
       "      <th></th>\n",
       "      <th>Id</th>\n",
       "      <th>MSSubClass</th>\n",
       "      <th>MSZoning</th>\n",
       "      <th>LotFrontage</th>\n",
       "      <th>LotArea</th>\n",
       "      <th>Street</th>\n",
       "      <th>Alley</th>\n",
       "      <th>LotShape</th>\n",
       "      <th>LandContour</th>\n",
       "      <th>Utilities</th>\n",
       "      <th>...</th>\n",
       "      <th>PoolArea</th>\n",
       "      <th>PoolQC</th>\n",
       "      <th>Fence</th>\n",
       "      <th>MiscFeature</th>\n",
       "      <th>MiscVal</th>\n",
       "      <th>MoSold</th>\n",
       "      <th>YrSold</th>\n",
       "      <th>SaleType</th>\n",
       "      <th>SaleCondition</th>\n",
       "      <th>SalePrice</th>\n",
       "    </tr>\n",
       "  </thead>\n",
       "  <tbody>\n",
       "    <tr>\n",
       "      <th>Type</th>\n",
       "      <td>int64</td>\n",
       "      <td>int64</td>\n",
       "      <td>object</td>\n",
       "      <td>float64</td>\n",
       "      <td>int64</td>\n",
       "      <td>object</td>\n",
       "      <td>object</td>\n",
       "      <td>object</td>\n",
       "      <td>object</td>\n",
       "      <td>object</td>\n",
       "      <td>...</td>\n",
       "      <td>int64</td>\n",
       "      <td>object</td>\n",
       "      <td>object</td>\n",
       "      <td>object</td>\n",
       "      <td>int64</td>\n",
       "      <td>int64</td>\n",
       "      <td>int64</td>\n",
       "      <td>object</td>\n",
       "      <td>object</td>\n",
       "      <td>int64</td>\n",
       "    </tr>\n",
       "  </tbody>\n",
       "</table>\n",
       "<p>1 rows × 81 columns</p>\n",
       "</div>"
      ],
      "text/plain": [
       "         Id MSSubClass MSZoning LotFrontage LotArea  Street   Alley LotShape  \\\n",
       "Type  int64      int64   object     float64   int64  object  object   object   \n",
       "\n",
       "     LandContour Utilities  ... PoolArea  PoolQC   Fence MiscFeature MiscVal  \\\n",
       "Type      object    object  ...    int64  object  object      object   int64   \n",
       "\n",
       "     MoSold YrSold SaleType SaleCondition SalePrice  \n",
       "Type  int64  int64   object        object     int64  \n",
       "\n",
       "[1 rows x 81 columns]"
      ]
     },
     "execution_count": 68,
     "metadata": {},
     "output_type": "execute_result"
    }
   ],
   "source": [
    "pd.DataFrame(df_train.dtypes,columns=['Type']).T"
   ]
  },
  {
   "cell_type": "markdown",
   "metadata": {},
   "source": [
    "### Number of Mıssing Values in Training and Test Sets"
   ]
  },
  {
   "cell_type": "code",
   "execution_count": 149,
   "metadata": {},
   "outputs": [
    {
     "data": {
      "text/html": [
       "<div>\n",
       "<style scoped>\n",
       "    .dataframe tbody tr th:only-of-type {\n",
       "        vertical-align: middle;\n",
       "    }\n",
       "\n",
       "    .dataframe tbody tr th {\n",
       "        vertical-align: top;\n",
       "    }\n",
       "\n",
       "    .dataframe thead th {\n",
       "        text-align: right;\n",
       "    }\n",
       "</style>\n",
       "<table border=\"1\" class=\"dataframe\">\n",
       "  <thead>\n",
       "    <tr style=\"text-align: right;\">\n",
       "      <th></th>\n",
       "      <th>LotFrontage</th>\n",
       "      <th>Alley</th>\n",
       "      <th>MasVnrType</th>\n",
       "      <th>MasVnrArea</th>\n",
       "      <th>BsmtQual</th>\n",
       "      <th>BsmtCond</th>\n",
       "      <th>BsmtExposure</th>\n",
       "      <th>BsmtFinType1</th>\n",
       "      <th>BsmtFinType2</th>\n",
       "      <th>Electrical</th>\n",
       "      <th>FireplaceQu</th>\n",
       "      <th>GarageType</th>\n",
       "      <th>GarageYrBlt</th>\n",
       "      <th>GarageFinish</th>\n",
       "      <th>GarageQual</th>\n",
       "      <th>GarageCond</th>\n",
       "      <th>PoolQC</th>\n",
       "      <th>Fence</th>\n",
       "      <th>MiscFeature</th>\n",
       "    </tr>\n",
       "  </thead>\n",
       "  <tbody>\n",
       "    <tr>\n",
       "      <th>Missing</th>\n",
       "      <td>259</td>\n",
       "      <td>1368</td>\n",
       "      <td>8</td>\n",
       "      <td>8</td>\n",
       "      <td>37</td>\n",
       "      <td>37</td>\n",
       "      <td>38</td>\n",
       "      <td>37</td>\n",
       "      <td>38</td>\n",
       "      <td>1</td>\n",
       "      <td>690</td>\n",
       "      <td>81</td>\n",
       "      <td>81</td>\n",
       "      <td>81</td>\n",
       "      <td>81</td>\n",
       "      <td>81</td>\n",
       "      <td>1453</td>\n",
       "      <td>1178</td>\n",
       "      <td>1405</td>\n",
       "    </tr>\n",
       "  </tbody>\n",
       "</table>\n",
       "</div>"
      ],
      "text/plain": [
       "         LotFrontage  Alley  MasVnrType  MasVnrArea  BsmtQual  BsmtCond  \\\n",
       "Missing          259   1368           8           8        37        37   \n",
       "\n",
       "         BsmtExposure  BsmtFinType1  BsmtFinType2  Electrical  FireplaceQu  \\\n",
       "Missing            38            37            38           1          690   \n",
       "\n",
       "         GarageType  GarageYrBlt  GarageFinish  GarageQual  GarageCond  \\\n",
       "Missing          81           81            81          81          81   \n",
       "\n",
       "         PoolQC  Fence  MiscFeature  \n",
       "Missing    1453   1178         1405  "
      ]
     },
     "execution_count": 149,
     "metadata": {},
     "output_type": "execute_result"
    }
   ],
   "source": [
    "#df_train[df_train.isnull().values]\n",
    "NaN_numbers_train = pd.DataFrame(df_train.isna().sum())\n",
    "NaN_numbers_train = NaN_numbers_train[pd.DataFrame(df_train.isna().sum()).T.any()].T\n",
    "NaN_numbers_train.rename(index={0: 'Missing'})"
   ]
  },
  {
   "cell_type": "markdown",
   "metadata": {},
   "source": [
    "Alley, PoolQC, Fence, MiscFeature parameters are mostly missing. They should be treated accordingly !"
   ]
  },
  {
   "cell_type": "code",
   "execution_count": 150,
   "metadata": {},
   "outputs": [
    {
     "data": {
      "text/html": [
       "<div>\n",
       "<style scoped>\n",
       "    .dataframe tbody tr th:only-of-type {\n",
       "        vertical-align: middle;\n",
       "    }\n",
       "\n",
       "    .dataframe tbody tr th {\n",
       "        vertical-align: top;\n",
       "    }\n",
       "\n",
       "    .dataframe thead th {\n",
       "        text-align: right;\n",
       "    }\n",
       "</style>\n",
       "<table border=\"1\" class=\"dataframe\">\n",
       "  <thead>\n",
       "    <tr style=\"text-align: right;\">\n",
       "      <th></th>\n",
       "      <th>MSZoning</th>\n",
       "      <th>LotFrontage</th>\n",
       "      <th>Alley</th>\n",
       "      <th>Utilities</th>\n",
       "      <th>Exterior1st</th>\n",
       "      <th>Exterior2nd</th>\n",
       "      <th>MasVnrType</th>\n",
       "      <th>MasVnrArea</th>\n",
       "      <th>BsmtQual</th>\n",
       "      <th>BsmtCond</th>\n",
       "      <th>...</th>\n",
       "      <th>GarageYrBlt</th>\n",
       "      <th>GarageFinish</th>\n",
       "      <th>GarageCars</th>\n",
       "      <th>GarageArea</th>\n",
       "      <th>GarageQual</th>\n",
       "      <th>GarageCond</th>\n",
       "      <th>PoolQC</th>\n",
       "      <th>Fence</th>\n",
       "      <th>MiscFeature</th>\n",
       "      <th>SaleType</th>\n",
       "    </tr>\n",
       "  </thead>\n",
       "  <tbody>\n",
       "    <tr>\n",
       "      <th>Missing</th>\n",
       "      <td>4</td>\n",
       "      <td>227</td>\n",
       "      <td>1352</td>\n",
       "      <td>2</td>\n",
       "      <td>1</td>\n",
       "      <td>1</td>\n",
       "      <td>16</td>\n",
       "      <td>15</td>\n",
       "      <td>44</td>\n",
       "      <td>45</td>\n",
       "      <td>...</td>\n",
       "      <td>78</td>\n",
       "      <td>78</td>\n",
       "      <td>1</td>\n",
       "      <td>1</td>\n",
       "      <td>78</td>\n",
       "      <td>78</td>\n",
       "      <td>1456</td>\n",
       "      <td>1169</td>\n",
       "      <td>1408</td>\n",
       "      <td>1</td>\n",
       "    </tr>\n",
       "  </tbody>\n",
       "</table>\n",
       "<p>1 rows × 33 columns</p>\n",
       "</div>"
      ],
      "text/plain": [
       "         MSZoning  LotFrontage  Alley  Utilities  Exterior1st  Exterior2nd  \\\n",
       "Missing         4          227   1352          2            1            1   \n",
       "\n",
       "         MasVnrType  MasVnrArea  BsmtQual  BsmtCond  ...  GarageYrBlt  \\\n",
       "Missing          16          15        44        45  ...           78   \n",
       "\n",
       "         GarageFinish  GarageCars  GarageArea  GarageQual  GarageCond  PoolQC  \\\n",
       "Missing            78           1           1          78          78    1456   \n",
       "\n",
       "         Fence  MiscFeature  SaleType  \n",
       "Missing   1169         1408         1  \n",
       "\n",
       "[1 rows x 33 columns]"
      ]
     },
     "execution_count": 150,
     "metadata": {},
     "output_type": "execute_result"
    }
   ],
   "source": [
    "NaN_numbers_test = pd.DataFrame(df_test.isna().sum())\n",
    "NaN_numbers_test = NaN_numbers_test[pd.DataFrame(df_test.isna().sum()).T.any()].T\n",
    "NaN_numbers_test.rename(index={0: 'Missing'})"
   ]
  },
  {
   "cell_type": "markdown",
   "metadata": {},
   "source": [
    "### Data Type Conversion for Categorical Variables"
   ]
  },
  {
   "cell_type": "code",
   "execution_count": 69,
   "metadata": {},
   "outputs": [],
   "source": [
    "df_train['MSZoning'] = df_train['MSZoning'].astype(CategoricalDtype())\n",
    "df_train['Street'] = df_train['Street'].astype(CategoricalDtype())\n",
    "df_train['Alley'] = df_train['Alley'].astype(CategoricalDtype())\n",
    "df_train['LotShape'] = df_train['LotShape'].astype(CategoricalDtype())\n",
    "df_train['OverallQual'] = df_train['OverallQual'].astype(CategoricalDtype()) #Included in Features\n",
    "df_train['OverallCond'] = df_train['OverallCond'].astype(CategoricalDtype()) #Included in Features\n",
    "\n",
    "df_test['MSZoning'] = df_test['MSZoning'].astype(CategoricalDtype())\n",
    "df_test['Street'] = df_test['Street'].astype(CategoricalDtype())\n",
    "df_test['Alley'] = df_test['Alley'].astype(CategoricalDtype())\n",
    "df_test['LotShape'] = df_test['LotShape'].astype(CategoricalDtype())\n",
    "df_test['OverallQual'] = df_test['OverallQual'].astype(CategoricalDtype()) #Included in Features\n",
    "df_test['OverallCond'] = df_test['OverallCond'].astype(CategoricalDtype()) #Included in Features"
   ]
  },
  {
   "cell_type": "code",
   "execution_count": 70,
   "metadata": {},
   "outputs": [
    {
     "data": {
      "text/plain": [
       "[RL, RM, C (all), FV, RH]\n",
       "Categories (5, object): [RL, RM, C (all), FV, RH]"
      ]
     },
     "execution_count": 70,
     "metadata": {},
     "output_type": "execute_result"
    }
   ],
   "source": [
    "df_train['MSZoning'].unique()"
   ]
  },
  {
   "cell_type": "markdown",
   "metadata": {},
   "source": [
    "## Visualizations to Explore the Data"
   ]
  },
  {
   "cell_type": "code",
   "execution_count": 71,
   "metadata": {
    "scrolled": false
   },
   "outputs": [
    {
     "data": {
      "image/png": "[encoded data removed]",
      "text/plain": [
       "<Figure size 1152x576 with 4 Axes>"
      ]
     },
     "metadata": {},
     "output_type": "display_data"
    }
   ],
   "source": [
    "sns.set(style=\"white\", palette=\"muted\", color_codes=True)\n",
    "\n",
    "# Set up the matplotlib figure\n",
    "f, axes = plt.subplots(2, 2, figsize=(16, 8), sharex=False)\n",
    "sns.despine(left=True)\n",
    "\n",
    "sns.barplot(x='MSZoning',y='SalePrice',data=df_train, ax=axes[0, 0]);\n",
    "# Plot a filled kernel density estimate\n",
    "sns.distplot(df_train['SalePrice'], hist=False, color=\"g\", kde_kws={\"shade\": True}, ax=axes[0, 1],\n",
    "            fit=stats.norm);\n",
    "#Gaussian Fit for Price Distribution\n",
    "(mu, sigma) = stats.norm.fit(df_train['SalePrice'])\n",
    "#print(\"mu={0}, sigma={1}\".format(mu, sigma))\n",
    "axes[0,1].legend([\"normal dist. fit ($\\mu=${0:.2g}, $\\sigma=${1:.2f})\".format(mu, sigma)],loc=\"upper right\")\n",
    "# Plot a filled kernel density estimate\n",
    "#sns.distplot(df_train['Street'], hist=False, color=\"b\", kde_kws={\"shade\": True}, ax=axes[1, 0]);\n",
    "sns.barplot(x='Street',y='SalePrice',data=df_train, ax=axes[1, 0]);\n",
    "sns.barplot(x='LotShape',y='SalePrice',data=df_train, ax=axes[1, 1]);\n",
    "\n",
    "#plt.setp(axes, yticks=[])\n",
    "plt.tight_layout()"
   ]
  },
  {
   "cell_type": "code",
   "execution_count": 72,
   "metadata": {},
   "outputs": [
    {
     "data": {
      "image/png": "[encoded data removed]",
      "text/plain": [
       "<Figure size 1152x576 with 2 Axes>"
      ]
     },
     "metadata": {},
     "output_type": "display_data"
    }
   ],
   "source": [
    "sns.set(style=\"white\", palette=\"muted\", color_codes=True)\n",
    "\n",
    "# Set up the matplotlib figure\n",
    "f, axes = plt.subplots(2, 1, figsize=(16, 8), sharex=False)\n",
    "sns.despine(left=True)\n",
    "\n",
    "sns.barplot(x='OverallQual',y='SalePrice',data=df_train, ax=axes[0]);\n",
    "# Plot a filled kernel density estimate\n",
    "sns.barplot(x='OverallCond',y='SalePrice',data=df_train, ax=axes[1]);\n",
    "\n",
    "#plt.setp(axes, yticks=[])\n",
    "plt.tight_layout()"
   ]
  },
  {
   "cell_type": "code",
   "execution_count": 73,
   "metadata": {},
   "outputs": [],
   "source": [
    "df_train=df_train.drop(df_train.loc[df_train['TotalBsmtSF'] == df_train['TotalBsmtSF'].max()].index[0])"
   ]
  },
  {
   "cell_type": "code",
   "execution_count": 74,
   "metadata": {},
   "outputs": [
    {
     "data": {
      "image/png": "[encoded data removed]",
      "text/plain": [
       "<Figure size 1152x576 with 1 Axes>"
      ]
     },
     "metadata": {},
     "output_type": "display_data"
    }
   ],
   "source": [
    "# Set the width and height of the figure\n",
    "plt.figure(figsize=(16,8))\n",
    "# Add a Regression line to see the correlation btw bmi and charges\n",
    "sns.regplot(x=df_train['TotalBsmtSF'], y=df_train['SalePrice'])\n",
    "plt.show()"
   ]
  },
  {
   "cell_type": "markdown",
   "metadata": {},
   "source": [
    "# Feature Selection & Forming Train, Dev and Test Sets"
   ]
  },
  {
   "cell_type": "code",
   "execution_count": 109,
   "metadata": {},
   "outputs": [],
   "source": [
    "Features = ['OverallCond','OverallQual','TotalBsmtSF']\n",
    "X = df_train[Features]\n",
    "y = df_train['SalePrice']\n",
    "X_test = df_test[Features]"
   ]
  },
  {
   "cell_type": "code",
   "execution_count": 110,
   "metadata": {},
   "outputs": [],
   "source": [
    "X_train, X_dev, y_train, y_dev = train_test_split(X, y, test_size=0.2, random_state=42)"
   ]
  },
  {
   "cell_type": "code",
   "execution_count": 111,
   "metadata": {},
   "outputs": [
    {
     "name": "stdout",
     "output_type": "stream",
     "text": [
      "(1167, 3) (292, 3) (1459, 3) (1167,) (292,)\n"
     ]
    }
   ],
   "source": [
    "print(X_train.shape, X_dev.shape, X_test.shape, y_train.shape, y_dev.shape)"
   ]
  },
  {
   "cell_type": "markdown",
   "metadata": {},
   "source": [
    "# ML Algorithms"
   ]
  },
  {
   "cell_type": "markdown",
   "metadata": {},
   "source": [
    "## Linear Regression"
   ]
  },
  {
   "cell_type": "code",
   "execution_count": 112,
   "metadata": {},
   "outputs": [],
   "source": [
    "linreg = LinearRegression(fit_intercept=False)\n",
    "linreg.fit(X_train, y_train)\n",
    "\n",
    "#To retrieve the intercept:\n",
    "    #print(linreg.intercept_)\n",
    "#For retrieving the slope:\n",
    "    #print(linreg.coef_)\n",
    "y_pred_linreg_dev = linreg.predict(X_dev)"
   ]
  },
  {
   "cell_type": "code",
   "execution_count": 113,
   "metadata": {},
   "outputs": [
    {
     "data": {
      "text/html": [
       "<div>\n",
       "<style scoped>\n",
       "    .dataframe tbody tr th:only-of-type {\n",
       "        vertical-align: middle;\n",
       "    }\n",
       "\n",
       "    .dataframe tbody tr th {\n",
       "        vertical-align: top;\n",
       "    }\n",
       "\n",
       "    .dataframe thead th {\n",
       "        text-align: right;\n",
       "    }\n",
       "</style>\n",
       "<table border=\"1\" class=\"dataframe\">\n",
       "  <thead>\n",
       "    <tr style=\"text-align: right;\">\n",
       "      <th></th>\n",
       "      <th>Actual</th>\n",
       "      <th>Predicted</th>\n",
       "    </tr>\n",
       "  </thead>\n",
       "  <tbody>\n",
       "    <tr>\n",
       "      <th>1322</th>\n",
       "      <td>190000</td>\n",
       "      <td>197649.423888</td>\n",
       "    </tr>\n",
       "    <tr>\n",
       "      <th>836</th>\n",
       "      <td>153500</td>\n",
       "      <td>174526.441378</td>\n",
       "    </tr>\n",
       "    <tr>\n",
       "      <th>413</th>\n",
       "      <td>115000</td>\n",
       "      <td>144263.509041</td>\n",
       "    </tr>\n",
       "    <tr>\n",
       "      <th>522</th>\n",
       "      <td>159000</td>\n",
       "      <td>163706.027380</td>\n",
       "    </tr>\n",
       "    <tr>\n",
       "      <th>1035</th>\n",
       "      <td>84000</td>\n",
       "      <td>88059.448860</td>\n",
       "    </tr>\n",
       "    <tr>\n",
       "      <th>...</th>\n",
       "      <td>...</td>\n",
       "      <td>...</td>\n",
       "    </tr>\n",
       "    <tr>\n",
       "      <th>479</th>\n",
       "      <td>89471</td>\n",
       "      <td>100232.813087</td>\n",
       "    </tr>\n",
       "    <tr>\n",
       "      <th>1361</th>\n",
       "      <td>260000</td>\n",
       "      <td>240489.872569</td>\n",
       "    </tr>\n",
       "    <tr>\n",
       "      <th>1415</th>\n",
       "      <td>175900</td>\n",
       "      <td>232580.866658</td>\n",
       "    </tr>\n",
       "    <tr>\n",
       "      <th>650</th>\n",
       "      <td>205950</td>\n",
       "      <td>191699.016904</td>\n",
       "    </tr>\n",
       "    <tr>\n",
       "      <th>721</th>\n",
       "      <td>143000</td>\n",
       "      <td>173959.131782</td>\n",
       "    </tr>\n",
       "  </tbody>\n",
       "</table>\n",
       "<p>292 rows × 2 columns</p>\n",
       "</div>"
      ],
      "text/plain": [
       "      Actual      Predicted\n",
       "1322  190000  197649.423888\n",
       "836   153500  174526.441378\n",
       "413   115000  144263.509041\n",
       "522   159000  163706.027380\n",
       "1035   84000   88059.448860\n",
       "...      ...            ...\n",
       "479    89471  100232.813087\n",
       "1361  260000  240489.872569\n",
       "1415  175900  232580.866658\n",
       "650   205950  191699.016904\n",
       "721   143000  173959.131782\n",
       "\n",
       "[292 rows x 2 columns]"
      ]
     },
     "execution_count": 113,
     "metadata": {},
     "output_type": "execute_result"
    }
   ],
   "source": [
    "df_linreg = pd.DataFrame({'Actual': y_dev, 'Predicted': y_pred_linreg_dev})\n",
    "df_linreg"
   ]
  },
  {
   "cell_type": "code",
   "execution_count": 114,
   "metadata": {},
   "outputs": [
    {
     "name": "stdout",
     "output_type": "stream",
     "text": [
      "Root Mean Squared Error for Linear Regression: 41394.316727963786\n",
      "Accuracy: 69.3563127198451%\n"
     ]
    }
   ],
   "source": [
    "print('Root Mean Squared Error for Linear Regression:', np.sqrt(metrics.mean_squared_error(y_dev, y_pred_linreg_dev)))\n",
    "print(\"Accuracy: \"+ str(linreg.score(X_dev,y_dev)*100) + \"%\")"
   ]
  },
  {
   "cell_type": "markdown",
   "metadata": {},
   "source": [
    "## Decision Tree Regression"
   ]
  },
  {
   "cell_type": "code",
   "execution_count": 115,
   "metadata": {},
   "outputs": [
    {
     "data": {
      "text/html": [
       "<div>\n",
       "<style scoped>\n",
       "    .dataframe tbody tr th:only-of-type {\n",
       "        vertical-align: middle;\n",
       "    }\n",
       "\n",
       "    .dataframe tbody tr th {\n",
       "        vertical-align: top;\n",
       "    }\n",
       "\n",
       "    .dataframe thead th {\n",
       "        text-align: right;\n",
       "    }\n",
       "</style>\n",
       "<table border=\"1\" class=\"dataframe\">\n",
       "  <thead>\n",
       "    <tr style=\"text-align: right;\">\n",
       "      <th></th>\n",
       "      <th>Actual</th>\n",
       "      <th>Predicted</th>\n",
       "    </tr>\n",
       "  </thead>\n",
       "  <tbody>\n",
       "    <tr>\n",
       "      <th>1322</th>\n",
       "      <td>190000</td>\n",
       "      <td>168775.152174</td>\n",
       "    </tr>\n",
       "    <tr>\n",
       "      <th>836</th>\n",
       "      <td>153500</td>\n",
       "      <td>157786.730769</td>\n",
       "    </tr>\n",
       "    <tr>\n",
       "      <th>413</th>\n",
       "      <td>115000</td>\n",
       "      <td>143390.693694</td>\n",
       "    </tr>\n",
       "    <tr>\n",
       "      <th>522</th>\n",
       "      <td>159000</td>\n",
       "      <td>161226.432039</td>\n",
       "    </tr>\n",
       "    <tr>\n",
       "      <th>1035</th>\n",
       "      <td>84000</td>\n",
       "      <td>97377.627907</td>\n",
       "    </tr>\n",
       "    <tr>\n",
       "      <th>...</th>\n",
       "      <td>...</td>\n",
       "      <td>...</td>\n",
       "    </tr>\n",
       "    <tr>\n",
       "      <th>479</th>\n",
       "      <td>89471</td>\n",
       "      <td>97377.627907</td>\n",
       "    </tr>\n",
       "    <tr>\n",
       "      <th>1361</th>\n",
       "      <td>260000</td>\n",
       "      <td>217065.131783</td>\n",
       "    </tr>\n",
       "    <tr>\n",
       "      <th>1415</th>\n",
       "      <td>175900</td>\n",
       "      <td>217065.131783</td>\n",
       "    </tr>\n",
       "    <tr>\n",
       "      <th>650</th>\n",
       "      <td>205950</td>\n",
       "      <td>199195.295082</td>\n",
       "    </tr>\n",
       "    <tr>\n",
       "      <th>721</th>\n",
       "      <td>143000</td>\n",
       "      <td>161226.432039</td>\n",
       "    </tr>\n",
       "  </tbody>\n",
       "</table>\n",
       "<p>292 rows × 2 columns</p>\n",
       "</div>"
      ],
      "text/plain": [
       "      Actual      Predicted\n",
       "1322  190000  168775.152174\n",
       "836   153500  157786.730769\n",
       "413   115000  143390.693694\n",
       "522   159000  161226.432039\n",
       "1035   84000   97377.627907\n",
       "...      ...            ...\n",
       "479    89471   97377.627907\n",
       "1361  260000  217065.131783\n",
       "1415  175900  217065.131783\n",
       "650   205950  199195.295082\n",
       "721   143000  161226.432039\n",
       "\n",
       "[292 rows x 2 columns]"
      ]
     },
     "execution_count": 115,
     "metadata": {},
     "output_type": "execute_result"
    }
   ],
   "source": [
    "dt = DecisionTreeRegressor(max_depth=10, min_samples_split=5, max_leaf_nodes=40)\n",
    "dt.fit(X_train, y_train)\n",
    "y_pred_dt = dt.predict(X_dev)\n",
    "df_dt = pd.DataFrame({'Actual': y_dev, 'Predicted': y_pred_dt})\n",
    "df_dt"
   ]
  },
  {
   "cell_type": "code",
   "execution_count": 116,
   "metadata": {},
   "outputs": [
    {
     "name": "stdout",
     "output_type": "stream",
     "text": [
      "Root Mean Squared Error for Decision Tree Regression: 41593.47581956047\n",
      "Accuracy: 69.0607334756112%\n"
     ]
    }
   ],
   "source": [
    "print('Root Mean Squared Error for Decision Tree Regression:', np.sqrt(metrics.mean_squared_error(y_dev, y_pred_dt)))\n",
    "print(\"Accuracy: \"+ str(dt.score(X_dev,y_dev)*100) + \"%\")"
   ]
  },
  {
   "cell_type": "markdown",
   "metadata": {},
   "source": [
    "## Random Forest Regression"
   ]
  },
  {
   "cell_type": "code",
   "execution_count": 117,
   "metadata": {},
   "outputs": [
    {
     "data": {
      "text/html": [
       "<div>\n",
       "<style scoped>\n",
       "    .dataframe tbody tr th:only-of-type {\n",
       "        vertical-align: middle;\n",
       "    }\n",
       "\n",
       "    .dataframe tbody tr th {\n",
       "        vertical-align: top;\n",
       "    }\n",
       "\n",
       "    .dataframe thead th {\n",
       "        text-align: right;\n",
       "    }\n",
       "</style>\n",
       "<table border=\"1\" class=\"dataframe\">\n",
       "  <thead>\n",
       "    <tr style=\"text-align: right;\">\n",
       "      <th></th>\n",
       "      <th>Actual</th>\n",
       "      <th>Predicted</th>\n",
       "    </tr>\n",
       "  </thead>\n",
       "  <tbody>\n",
       "    <tr>\n",
       "      <th>1322</th>\n",
       "      <td>190000</td>\n",
       "      <td>171820.000000</td>\n",
       "    </tr>\n",
       "    <tr>\n",
       "      <th>836</th>\n",
       "      <td>153500</td>\n",
       "      <td>194290.000000</td>\n",
       "    </tr>\n",
       "    <tr>\n",
       "      <th>413</th>\n",
       "      <td>115000</td>\n",
       "      <td>137370.000000</td>\n",
       "    </tr>\n",
       "    <tr>\n",
       "      <th>522</th>\n",
       "      <td>159000</td>\n",
       "      <td>150750.000000</td>\n",
       "    </tr>\n",
       "    <tr>\n",
       "      <th>1035</th>\n",
       "      <td>84000</td>\n",
       "      <td>78568.686869</td>\n",
       "    </tr>\n",
       "    <tr>\n",
       "      <th>...</th>\n",
       "      <td>...</td>\n",
       "      <td>...</td>\n",
       "    </tr>\n",
       "    <tr>\n",
       "      <th>479</th>\n",
       "      <td>89471</td>\n",
       "      <td>116130.000000</td>\n",
       "    </tr>\n",
       "    <tr>\n",
       "      <th>1361</th>\n",
       "      <td>260000</td>\n",
       "      <td>239691.555556</td>\n",
       "    </tr>\n",
       "    <tr>\n",
       "      <th>1415</th>\n",
       "      <td>175900</td>\n",
       "      <td>114100.000000</td>\n",
       "    </tr>\n",
       "    <tr>\n",
       "      <th>650</th>\n",
       "      <td>205950</td>\n",
       "      <td>192700.000000</td>\n",
       "    </tr>\n",
       "    <tr>\n",
       "      <th>721</th>\n",
       "      <td>143000</td>\n",
       "      <td>140449.523810</td>\n",
       "    </tr>\n",
       "  </tbody>\n",
       "</table>\n",
       "<p>292 rows × 2 columns</p>\n",
       "</div>"
      ],
      "text/plain": [
       "      Actual      Predicted\n",
       "1322  190000  171820.000000\n",
       "836   153500  194290.000000\n",
       "413   115000  137370.000000\n",
       "522   159000  150750.000000\n",
       "1035   84000   78568.686869\n",
       "...      ...            ...\n",
       "479    89471  116130.000000\n",
       "1361  260000  239691.555556\n",
       "1415  175900  114100.000000\n",
       "650   205950  192700.000000\n",
       "721   143000  140449.523810\n",
       "\n",
       "[292 rows x 2 columns]"
      ]
     },
     "execution_count": 117,
     "metadata": {},
     "output_type": "execute_result"
    }
   ],
   "source": [
    "rf = RandomForestRegressor(max_depth = 20, n_estimators=10, random_state = 42)\n",
    "rf.fit(X_train, y_train)\n",
    "y_pred_rf = rf.predict(X_dev)\n",
    "df_rf = pd.DataFrame({'Actual': y_dev, 'Predicted': y_pred_rf})\n",
    "df_rf"
   ]
  },
  {
   "cell_type": "code",
   "execution_count": 118,
   "metadata": {},
   "outputs": [
    {
     "name": "stdout",
     "output_type": "stream",
     "text": [
      "Root Mean Squared Error for Random Forest Regression: 43328.770786931134\n",
      "Accuracy: 66.42528598806085%\n"
     ]
    }
   ],
   "source": [
    "print('Root Mean Squared Error for Random Forest Regression:', np.sqrt(metrics.mean_squared_error(y_dev, y_pred_rf)))\n",
    "print(\"Accuracy: \"+ str(rf.score(X_dev,y_dev)*100) + \"%\")"
   ]
  },
  {
   "cell_type": "markdown",
   "metadata": {},
   "source": [
    "# Creating Submission CSV"
   ]
  },
  {
   "cell_type": "code",
   "execution_count": 119,
   "metadata": {},
   "outputs": [
    {
     "data": {
      "text/html": [
       "<div>\n",
       "<style scoped>\n",
       "    .dataframe tbody tr th:only-of-type {\n",
       "        vertical-align: middle;\n",
       "    }\n",
       "\n",
       "    .dataframe tbody tr th {\n",
       "        vertical-align: top;\n",
       "    }\n",
       "\n",
       "    .dataframe thead th {\n",
       "        text-align: right;\n",
       "    }\n",
       "</style>\n",
       "<table border=\"1\" class=\"dataframe\">\n",
       "  <thead>\n",
       "    <tr style=\"text-align: right;\">\n",
       "      <th></th>\n",
       "      <th>OverallCond</th>\n",
       "      <th>OverallQual</th>\n",
       "      <th>TotalBsmtSF</th>\n",
       "    </tr>\n",
       "  </thead>\n",
       "  <tbody>\n",
       "    <tr>\n",
       "      <th>0</th>\n",
       "      <td>6</td>\n",
       "      <td>5</td>\n",
       "      <td>882.0</td>\n",
       "    </tr>\n",
       "    <tr>\n",
       "      <th>1</th>\n",
       "      <td>6</td>\n",
       "      <td>6</td>\n",
       "      <td>1329.0</td>\n",
       "    </tr>\n",
       "    <tr>\n",
       "      <th>2</th>\n",
       "      <td>5</td>\n",
       "      <td>5</td>\n",
       "      <td>928.0</td>\n",
       "    </tr>\n",
       "    <tr>\n",
       "      <th>3</th>\n",
       "      <td>6</td>\n",
       "      <td>6</td>\n",
       "      <td>926.0</td>\n",
       "    </tr>\n",
       "    <tr>\n",
       "      <th>4</th>\n",
       "      <td>5</td>\n",
       "      <td>8</td>\n",
       "      <td>1280.0</td>\n",
       "    </tr>\n",
       "    <tr>\n",
       "      <th>...</th>\n",
       "      <td>...</td>\n",
       "      <td>...</td>\n",
       "      <td>...</td>\n",
       "    </tr>\n",
       "    <tr>\n",
       "      <th>1454</th>\n",
       "      <td>7</td>\n",
       "      <td>4</td>\n",
       "      <td>546.0</td>\n",
       "    </tr>\n",
       "    <tr>\n",
       "      <th>1455</th>\n",
       "      <td>5</td>\n",
       "      <td>4</td>\n",
       "      <td>546.0</td>\n",
       "    </tr>\n",
       "    <tr>\n",
       "      <th>1456</th>\n",
       "      <td>7</td>\n",
       "      <td>5</td>\n",
       "      <td>1224.0</td>\n",
       "    </tr>\n",
       "    <tr>\n",
       "      <th>1457</th>\n",
       "      <td>5</td>\n",
       "      <td>5</td>\n",
       "      <td>912.0</td>\n",
       "    </tr>\n",
       "    <tr>\n",
       "      <th>1458</th>\n",
       "      <td>5</td>\n",
       "      <td>7</td>\n",
       "      <td>996.0</td>\n",
       "    </tr>\n",
       "  </tbody>\n",
       "</table>\n",
       "<p>1459 rows × 3 columns</p>\n",
       "</div>"
      ],
      "text/plain": [
       "     OverallCond OverallQual  TotalBsmtSF\n",
       "0              6           5        882.0\n",
       "1              6           6       1329.0\n",
       "2              5           5        928.0\n",
       "3              6           6        926.0\n",
       "4              5           8       1280.0\n",
       "...          ...         ...          ...\n",
       "1454           7           4        546.0\n",
       "1455           5           4        546.0\n",
       "1456           7           5       1224.0\n",
       "1457           5           5        912.0\n",
       "1458           5           7        996.0\n",
       "\n",
       "[1459 rows x 3 columns]"
      ]
     },
     "execution_count": 119,
     "metadata": {},
     "output_type": "execute_result"
    }
   ],
   "source": [
    "X_test"
   ]
  },
  {
   "cell_type": "code",
   "execution_count": 122,
   "metadata": {
    "scrolled": false
   },
   "outputs": [
    {
     "name": "stderr",
     "output_type": "stream",
     "text": [
      "C:\\Users\\Faruk.Buldur\\Anaconda3\\lib\\site-packages\\ipykernel_launcher.py:3: SettingWithCopyWarning: \n",
      "A value is trying to be set on a copy of a slice from a DataFrame.\n",
      "Try using .loc[row_indexer,col_indexer] = value instead\n",
      "\n",
      "See the caveats in the documentation: https://pandas.pydata.org/pandas-docs/stable/user_guide/indexing.html#returning-a-view-versus-a-copy\n",
      "  This is separate from the ipykernel package so we can avoid doing imports until\n"
     ]
    }
   ],
   "source": [
    "# Filling NaN with mean\n",
    "X_test[X_test.isnull().values]\n",
    "X_test['TotalBsmtSF'] = X_test['TotalBsmtSF'].fillna(X_test['TotalBsmtSF'].mean())\n",
    "#X_test=X_test.drop(X_test[X_test.isnull().values].index[0])"
   ]
  },
  {
   "cell_type": "code",
   "execution_count": 123,
   "metadata": {},
   "outputs": [
    {
     "data": {
      "text/html": [
       "<div>\n",
       "<style scoped>\n",
       "    .dataframe tbody tr th:only-of-type {\n",
       "        vertical-align: middle;\n",
       "    }\n",
       "\n",
       "    .dataframe tbody tr th {\n",
       "        vertical-align: top;\n",
       "    }\n",
       "\n",
       "    .dataframe thead th {\n",
       "        text-align: right;\n",
       "    }\n",
       "</style>\n",
       "<table border=\"1\" class=\"dataframe\">\n",
       "  <thead>\n",
       "    <tr style=\"text-align: right;\">\n",
       "      <th></th>\n",
       "      <th>OverallCond</th>\n",
       "      <th>OverallQual</th>\n",
       "      <th>TotalBsmtSF</th>\n",
       "    </tr>\n",
       "  </thead>\n",
       "  <tbody>\n",
       "  </tbody>\n",
       "</table>\n",
       "</div>"
      ],
      "text/plain": [
       "Empty DataFrame\n",
       "Columns: [OverallCond, OverallQual, TotalBsmtSF]\n",
       "Index: []"
      ]
     },
     "execution_count": 123,
     "metadata": {},
     "output_type": "execute_result"
    }
   ],
   "source": [
    "X_test[X_test.isnull().values]"
   ]
  },
  {
   "cell_type": "code",
   "execution_count": 125,
   "metadata": {},
   "outputs": [],
   "source": [
    "y_pred_rf_test = rf.predict(X_test)\n",
    "df_temp = pd.concat([df_test['Id'],pd.Series(y_pred_rf_test)],axis=1)\n",
    "df_temp.columns = [['Id', 'SalePrice']]"
   ]
  },
  {
   "cell_type": "code",
   "execution_count": 126,
   "metadata": {},
   "outputs": [],
   "source": [
    "df_temp.to_csv(\"Sample_Submission_001.csv\",index=False)"
   ]
  }
 ],
 "metadata": {
  "kernelspec": {
   "display_name": "Python 3",
   "language": "python",
   "name": "python3"
  },
  "language_info": {
   "codemirror_mode": {
    "name": "ipython",
    "version": 3
   },
   "file_extension": ".py",
   "mimetype": "text/x-python",
   "name": "python",
   "nbconvert_exporter": "python",
   "pygments_lexer": "ipython3",
   "version": "3.7.4"
  }
 },
 "nbformat": 4,
 "nbformat_minor": 4
}
